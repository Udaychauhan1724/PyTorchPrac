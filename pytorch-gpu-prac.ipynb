{
 "cells": [
  {
   "cell_type": "code",
   "execution_count": 1,
   "id": "c6712809",
   "metadata": {
    "_cell_guid": "b1076dfc-b9ad-4769-8c92-a6c4dae69d19",
    "_uuid": "8f2839f25d086af736a60e9eeb907d3b93b6e0e5",
    "execution": {
     "iopub.execute_input": "2025-08-17T16:00:23.561600Z",
     "iopub.status.busy": "2025-08-17T16:00:23.561401Z",
     "iopub.status.idle": "2025-08-17T16:00:25.472243Z",
     "shell.execute_reply": "2025-08-17T16:00:25.471439Z"
    },
    "papermill": {
     "duration": 1.917201,
     "end_time": "2025-08-17T16:00:25.473518",
     "exception": false,
     "start_time": "2025-08-17T16:00:23.556317",
     "status": "completed"
    },
    "tags": []
   },
   "outputs": [
    {
     "name": "stdout",
     "output_type": "stream",
     "text": [
      "/kaggle/input/fashionmnist/t10k-labels-idx1-ubyte\n",
      "/kaggle/input/fashionmnist/t10k-images-idx3-ubyte\n",
      "/kaggle/input/fashionmnist/fashion-mnist_test.csv\n",
      "/kaggle/input/fashionmnist/fashion-mnist_train.csv\n",
      "/kaggle/input/fashionmnist/train-labels-idx1-ubyte\n",
      "/kaggle/input/fashionmnist/train-images-idx3-ubyte\n"
     ]
    }
   ],
   "source": [
    "# This Python 3 environment comes with many helpful analytics libraries installed\n",
    "# It is defined by the kaggle/python Docker image: https://github.com/kaggle/docker-python\n",
    "# For example, here's several helpful packages to load\n",
    "\n",
    "import numpy as np # linear algebra\n",
    "import pandas as pd # data processing, CSV file I/O (e.g. pd.read_csv)\n",
    "\n",
    "# Input data files are available in the read-only \"../input/\" directory\n",
    "# For example, running this (by clicking run or pressing Shift+Enter) will list all files under the input directory\n",
    "\n",
    "import os\n",
    "for dirname, _, filenames in os.walk('/kaggle/input'):\n",
    "    for filename in filenames:\n",
    "        print(os.path.join(dirname, filename))\n",
    "\n",
    "# You can write up to 20GB to the current directory (/kaggle/working/) that gets preserved as output when you create a version using \"Save & Run All\" \n",
    "# You can also write temporary files to /kaggle/temp/, but they won't be saved outside of the current session"
   ]
  },
  {
   "cell_type": "code",
   "execution_count": 2,
   "id": "0b20c6e6",
   "metadata": {
    "execution": {
     "iopub.execute_input": "2025-08-17T16:00:25.482431Z",
     "iopub.status.busy": "2025-08-17T16:00:25.481872Z",
     "iopub.status.idle": "2025-08-17T16:00:33.860133Z",
     "shell.execute_reply": "2025-08-17T16:00:33.859322Z"
    },
    "papermill": {
     "duration": 8.384142,
     "end_time": "2025-08-17T16:00:33.861684",
     "exception": false,
     "start_time": "2025-08-17T16:00:25.477542",
     "status": "completed"
    },
    "tags": []
   },
   "outputs": [],
   "source": [
    "import pandas as pd\n",
    "from sklearn.model_selection import train_test_split\n",
    "import torch\n",
    "import torch.nn as nn\n",
    "import torch.optim as optim\n",
    "import matplotlib.pyplot as plt\n",
    "from torch.utils.data import Dataset, DataLoader"
   ]
  },
  {
   "cell_type": "code",
   "execution_count": 3,
   "id": "24de695e",
   "metadata": {
    "execution": {
     "iopub.execute_input": "2025-08-17T16:00:33.870693Z",
     "iopub.status.busy": "2025-08-17T16:00:33.870370Z",
     "iopub.status.idle": "2025-08-17T16:00:33.882713Z",
     "shell.execute_reply": "2025-08-17T16:00:33.882197Z"
    },
    "papermill": {
     "duration": 0.017802,
     "end_time": "2025-08-17T16:00:33.883825",
     "exception": false,
     "start_time": "2025-08-17T16:00:33.866023",
     "status": "completed"
    },
    "tags": []
   },
   "outputs": [
    {
     "data": {
      "text/plain": [
       "<torch._C.Generator at 0x7b57a5738f90>"
      ]
     },
     "execution_count": 3,
     "metadata": {},
     "output_type": "execute_result"
    }
   ],
   "source": [
    "torch.manual_seed(42)"
   ]
  },
  {
   "cell_type": "code",
   "execution_count": 4,
   "id": "1dd9455f",
   "metadata": {
    "execution": {
     "iopub.execute_input": "2025-08-17T16:00:33.892302Z",
     "iopub.status.busy": "2025-08-17T16:00:33.892073Z",
     "iopub.status.idle": "2025-08-17T16:00:33.983156Z",
     "shell.execute_reply": "2025-08-17T16:00:33.982266Z"
    },
    "papermill": {
     "duration": 0.09661,
     "end_time": "2025-08-17T16:00:33.984281",
     "exception": false,
     "start_time": "2025-08-17T16:00:33.887671",
     "status": "completed"
    },
    "tags": []
   },
   "outputs": [
    {
     "name": "stdout",
     "output_type": "stream",
     "text": [
      "cuda\n"
     ]
    }
   ],
   "source": [
    "device = torch.device('cuda' if torch.cuda.is_available() else 'cpu')\n",
    "print(device)"
   ]
  },
  {
   "cell_type": "markdown",
   "id": "c297bac9",
   "metadata": {
    "papermill": {
     "duration": 0.004166,
     "end_time": "2025-08-17T16:00:33.992418",
     "exception": false,
     "start_time": "2025-08-17T16:00:33.988252",
     "status": "completed"
    },
    "tags": []
   },
   "source": [
    "# Labels\n",
    "* 0 T-shirt/top\n",
    "* 1 Trouser\n",
    "* 2 Pullover\n",
    "* 3 Dress,\n",
    "* 4 Coat\n",
    "* 5 Sandal\n",
    "* 6 Shirt\n",
    "* 7 Sneaker\n",
    "* 8 Bag\n",
    "* 9 Ankle boot\n"
   ]
  },
  {
   "cell_type": "code",
   "execution_count": 5,
   "id": "5513e2ad",
   "metadata": {
    "execution": {
     "iopub.execute_input": "2025-08-17T16:00:34.000535Z",
     "iopub.status.busy": "2025-08-17T16:00:34.000312Z",
     "iopub.status.idle": "2025-08-17T16:00:39.226421Z",
     "shell.execute_reply": "2025-08-17T16:00:39.225688Z"
    },
    "papermill": {
     "duration": 5.231394,
     "end_time": "2025-08-17T16:00:39.227524",
     "exception": false,
     "start_time": "2025-08-17T16:00:33.996130",
     "status": "completed"
    },
    "tags": []
   },
   "outputs": [
    {
     "data": {
      "text/html": [
       "<div>\n",
       "<style scoped>\n",
       "    .dataframe tbody tr th:only-of-type {\n",
       "        vertical-align: middle;\n",
       "    }\n",
       "\n",
       "    .dataframe tbody tr th {\n",
       "        vertical-align: top;\n",
       "    }\n",
       "\n",
       "    .dataframe thead th {\n",
       "        text-align: right;\n",
       "    }\n",
       "</style>\n",
       "<table border=\"1\" class=\"dataframe\">\n",
       "  <thead>\n",
       "    <tr style=\"text-align: right;\">\n",
       "      <th></th>\n",
       "      <th>label</th>\n",
       "      <th>pixel1</th>\n",
       "      <th>pixel2</th>\n",
       "      <th>pixel3</th>\n",
       "      <th>pixel4</th>\n",
       "      <th>pixel5</th>\n",
       "      <th>pixel6</th>\n",
       "      <th>pixel7</th>\n",
       "      <th>pixel8</th>\n",
       "      <th>pixel9</th>\n",
       "      <th>...</th>\n",
       "      <th>pixel775</th>\n",
       "      <th>pixel776</th>\n",
       "      <th>pixel777</th>\n",
       "      <th>pixel778</th>\n",
       "      <th>pixel779</th>\n",
       "      <th>pixel780</th>\n",
       "      <th>pixel781</th>\n",
       "      <th>pixel782</th>\n",
       "      <th>pixel783</th>\n",
       "      <th>pixel784</th>\n",
       "    </tr>\n",
       "  </thead>\n",
       "  <tbody>\n",
       "    <tr>\n",
       "      <th>2873</th>\n",
       "      <td>0</td>\n",
       "      <td>0</td>\n",
       "      <td>0</td>\n",
       "      <td>0</td>\n",
       "      <td>0</td>\n",
       "      <td>0</td>\n",
       "      <td>0</td>\n",
       "      <td>0</td>\n",
       "      <td>0</td>\n",
       "      <td>0</td>\n",
       "      <td>...</td>\n",
       "      <td>86</td>\n",
       "      <td>85</td>\n",
       "      <td>75</td>\n",
       "      <td>0</td>\n",
       "      <td>0</td>\n",
       "      <td>0</td>\n",
       "      <td>0</td>\n",
       "      <td>0</td>\n",
       "      <td>0</td>\n",
       "      <td>0</td>\n",
       "    </tr>\n",
       "    <tr>\n",
       "      <th>44369</th>\n",
       "      <td>6</td>\n",
       "      <td>0</td>\n",
       "      <td>0</td>\n",
       "      <td>0</td>\n",
       "      <td>0</td>\n",
       "      <td>0</td>\n",
       "      <td>0</td>\n",
       "      <td>1</td>\n",
       "      <td>2</td>\n",
       "      <td>0</td>\n",
       "      <td>...</td>\n",
       "      <td>53</td>\n",
       "      <td>0</td>\n",
       "      <td>0</td>\n",
       "      <td>0</td>\n",
       "      <td>61</td>\n",
       "      <td>61</td>\n",
       "      <td>0</td>\n",
       "      <td>0</td>\n",
       "      <td>0</td>\n",
       "      <td>0</td>\n",
       "    </tr>\n",
       "    <tr>\n",
       "      <th>3431</th>\n",
       "      <td>0</td>\n",
       "      <td>0</td>\n",
       "      <td>0</td>\n",
       "      <td>1</td>\n",
       "      <td>0</td>\n",
       "      <td>0</td>\n",
       "      <td>0</td>\n",
       "      <td>0</td>\n",
       "      <td>63</td>\n",
       "      <td>156</td>\n",
       "      <td>...</td>\n",
       "      <td>190</td>\n",
       "      <td>127</td>\n",
       "      <td>72</td>\n",
       "      <td>25</td>\n",
       "      <td>26</td>\n",
       "      <td>0</td>\n",
       "      <td>1</td>\n",
       "      <td>0</td>\n",
       "      <td>0</td>\n",
       "      <td>0</td>\n",
       "    </tr>\n",
       "    <tr>\n",
       "      <th>18456</th>\n",
       "      <td>7</td>\n",
       "      <td>0</td>\n",
       "      <td>0</td>\n",
       "      <td>0</td>\n",
       "      <td>0</td>\n",
       "      <td>0</td>\n",
       "      <td>0</td>\n",
       "      <td>0</td>\n",
       "      <td>0</td>\n",
       "      <td>0</td>\n",
       "      <td>...</td>\n",
       "      <td>0</td>\n",
       "      <td>0</td>\n",
       "      <td>0</td>\n",
       "      <td>0</td>\n",
       "      <td>0</td>\n",
       "      <td>0</td>\n",
       "      <td>0</td>\n",
       "      <td>0</td>\n",
       "      <td>0</td>\n",
       "      <td>0</td>\n",
       "    </tr>\n",
       "    <tr>\n",
       "      <th>20626</th>\n",
       "      <td>4</td>\n",
       "      <td>0</td>\n",
       "      <td>0</td>\n",
       "      <td>0</td>\n",
       "      <td>0</td>\n",
       "      <td>0</td>\n",
       "      <td>0</td>\n",
       "      <td>1</td>\n",
       "      <td>1</td>\n",
       "      <td>0</td>\n",
       "      <td>...</td>\n",
       "      <td>0</td>\n",
       "      <td>2</td>\n",
       "      <td>0</td>\n",
       "      <td>0</td>\n",
       "      <td>81</td>\n",
       "      <td>93</td>\n",
       "      <td>62</td>\n",
       "      <td>0</td>\n",
       "      <td>0</td>\n",
       "      <td>0</td>\n",
       "    </tr>\n",
       "  </tbody>\n",
       "</table>\n",
       "<p>5 rows × 785 columns</p>\n",
       "</div>"
      ],
      "text/plain": [
       "       label  pixel1  pixel2  pixel3  pixel4  pixel5  pixel6  pixel7  pixel8  \\\n",
       "2873       0       0       0       0       0       0       0       0       0   \n",
       "44369      6       0       0       0       0       0       0       1       2   \n",
       "3431       0       0       0       1       0       0       0       0      63   \n",
       "18456      7       0       0       0       0       0       0       0       0   \n",
       "20626      4       0       0       0       0       0       0       1       1   \n",
       "\n",
       "       pixel9  ...  pixel775  pixel776  pixel777  pixel778  pixel779  \\\n",
       "2873        0  ...        86        85        75         0         0   \n",
       "44369       0  ...        53         0         0         0        61   \n",
       "3431      156  ...       190       127        72        25        26   \n",
       "18456       0  ...         0         0         0         0         0   \n",
       "20626       0  ...         0         2         0         0        81   \n",
       "\n",
       "       pixel780  pixel781  pixel782  pixel783  pixel784  \n",
       "2873          0         0         0         0         0  \n",
       "44369        61         0         0         0         0  \n",
       "3431          0         1         0         0         0  \n",
       "18456         0         0         0         0         0  \n",
       "20626        93        62         0         0         0  \n",
       "\n",
       "[5 rows x 785 columns]"
      ]
     },
     "execution_count": 5,
     "metadata": {},
     "output_type": "execute_result"
    }
   ],
   "source": [
    "df_train = pd.read_csv('/kaggle/input/fashionmnist/fashion-mnist_train.csv')\n",
    "df_test = pd.read_csv('/kaggle/input/fashionmnist/fashion-mnist_test.csv')\n",
    "df_train.sample(5)"
   ]
  },
  {
   "cell_type": "code",
   "execution_count": 6,
   "id": "43611b3e",
   "metadata": {
    "execution": {
     "iopub.execute_input": "2025-08-17T16:00:39.238245Z",
     "iopub.status.busy": "2025-08-17T16:00:39.237657Z",
     "iopub.status.idle": "2025-08-17T16:00:39.241452Z",
     "shell.execute_reply": "2025-08-17T16:00:39.240871Z"
    },
    "papermill": {
     "duration": 0.010379,
     "end_time": "2025-08-17T16:00:39.242414",
     "exception": false,
     "start_time": "2025-08-17T16:00:39.232035",
     "status": "completed"
    },
    "tags": []
   },
   "outputs": [
    {
     "name": "stdout",
     "output_type": "stream",
     "text": [
      "(60000, 785)\n",
      "(10000, 785)\n"
     ]
    }
   ],
   "source": [
    "print(df_train.shape)\n",
    "print(df_test.shape)"
   ]
  },
  {
   "cell_type": "code",
   "execution_count": 7,
   "id": "f5acffd5",
   "metadata": {
    "execution": {
     "iopub.execute_input": "2025-08-17T16:00:39.250896Z",
     "iopub.status.busy": "2025-08-17T16:00:39.250689Z",
     "iopub.status.idle": "2025-08-17T16:00:40.011854Z",
     "shell.execute_reply": "2025-08-17T16:00:40.011094Z"
    },
    "papermill": {
     "duration": 0.766767,
     "end_time": "2025-08-17T16:00:40.013082",
     "exception": false,
     "start_time": "2025-08-17T16:00:39.246315",
     "status": "completed"
    },
    "tags": []
   },
   "outputs": [
    {
     "data": {
      "image/png": "[encoded data removed]",
      "text/plain": [
       "<Figure size 1000x1000 with 9 Axes>"
      ]
     },
     "metadata": {},
     "output_type": "display_data"
    }
   ],
   "source": [
    "# Create a 4x4 grid of images\n",
    "fig, axes = plt.subplots(3, 3, figsize=(10, 10))\n",
    "fig.suptitle(\"First 9 Images\", fontsize=16)\n",
    "\n",
    "# Plot the first 16 images from the dataset\n",
    "for i, ax in enumerate(axes.flat):\n",
    "    img = df_train.iloc[i, 1:].values.reshape(28, 28)  # Reshape to 28x28\n",
    "    ax.imshow(img)  # Display in grayscale\n",
    "    ax.axis('off')  # Remove axis for a cleaner look\n",
    "    ax.set_title(f\"Label: {df_train.iloc[i, 0]}\")  # Show the label\n",
    "\n",
    "plt.tight_layout(rect=[0, 0, 1, 0.96])  # Adjust layout to fit the title\n",
    "plt.show()"
   ]
  },
  {
   "cell_type": "code",
   "execution_count": 8,
   "id": "838f6d0a",
   "metadata": {
    "execution": {
     "iopub.execute_input": "2025-08-17T16:00:40.023263Z",
     "iopub.status.busy": "2025-08-17T16:00:40.022877Z",
     "iopub.status.idle": "2025-08-17T16:00:40.027244Z",
     "shell.execute_reply": "2025-08-17T16:00:40.026585Z"
    },
    "papermill": {
     "duration": 0.010464,
     "end_time": "2025-08-17T16:00:40.028288",
     "exception": false,
     "start_time": "2025-08-17T16:00:40.017824",
     "status": "completed"
    },
    "tags": []
   },
   "outputs": [],
   "source": [
    "# split\n",
    "x_train = df_train.iloc[:, 1:].values\n",
    "y_train= df_train.iloc[:, 0].values\n",
    "\n",
    "x_test = df_test.iloc[:, 1:].values\n",
    "y_test = df_test.iloc[:, 0].values"
   ]
  },
  {
   "cell_type": "code",
   "execution_count": 9,
   "id": "6e508430",
   "metadata": {
    "execution": {
     "iopub.execute_input": "2025-08-17T16:00:40.037980Z",
     "iopub.status.busy": "2025-08-17T16:00:40.037601Z",
     "iopub.status.idle": "2025-08-17T16:00:40.041725Z",
     "shell.execute_reply": "2025-08-17T16:00:40.041172Z"
    },
    "papermill": {
     "duration": 0.010003,
     "end_time": "2025-08-17T16:00:40.042744",
     "exception": false,
     "start_time": "2025-08-17T16:00:40.032741",
     "status": "completed"
    },
    "tags": []
   },
   "outputs": [
    {
     "data": {
      "text/plain": [
       "(60000, 784)"
      ]
     },
     "execution_count": 9,
     "metadata": {},
     "output_type": "execute_result"
    }
   ],
   "source": [
    "x_train.shape"
   ]
  },
  {
   "cell_type": "code",
   "execution_count": 10,
   "id": "a2b430b4",
   "metadata": {
    "execution": {
     "iopub.execute_input": "2025-08-17T16:00:40.052949Z",
     "iopub.status.busy": "2025-08-17T16:00:40.052351Z",
     "iopub.status.idle": "2025-08-17T16:00:40.226873Z",
     "shell.execute_reply": "2025-08-17T16:00:40.225947Z"
    },
    "papermill": {
     "duration": 0.180884,
     "end_time": "2025-08-17T16:00:40.228159",
     "exception": false,
     "start_time": "2025-08-17T16:00:40.047275",
     "status": "completed"
    },
    "tags": []
   },
   "outputs": [
    {
     "name": "stdout",
     "output_type": "stream",
     "text": [
      "before: [[0 0 0 ... 0 0 0]\n",
      " [0 0 0 ... 0 0 0]\n",
      " [0 0 0 ... 0 0 0]\n",
      " ...\n",
      " [0 0 0 ... 0 0 0]\n",
      " [0 0 0 ... 0 0 0]\n",
      " [0 0 0 ... 0 0 0]]\n",
      "After: [[0. 0. 0. ... 0. 0. 0.]\n",
      " [0. 0. 0. ... 0. 0. 0.]\n",
      " [0. 0. 0. ... 0. 0. 0.]\n",
      " ...\n",
      " [0. 0. 0. ... 0. 0. 0.]\n",
      " [0. 0. 0. ... 0. 0. 0.]\n",
      " [0. 0. 0. ... 0. 0. 0.]]\n"
     ]
    }
   ],
   "source": [
    "# normalization\n",
    "print(f\"before: {x_train}\")\n",
    "\n",
    "x_train = x_train/255.0\n",
    "x_test = x_test/255.0\n",
    "print(f\"After: {x_train}\")"
   ]
  },
  {
   "cell_type": "code",
   "execution_count": 11,
   "id": "33535f08",
   "metadata": {
    "execution": {
     "iopub.execute_input": "2025-08-17T16:00:40.238657Z",
     "iopub.status.busy": "2025-08-17T16:00:40.238378Z",
     "iopub.status.idle": "2025-08-17T16:00:40.242715Z",
     "shell.execute_reply": "2025-08-17T16:00:40.242211Z"
    },
    "papermill": {
     "duration": 0.010734,
     "end_time": "2025-08-17T16:00:40.243785",
     "exception": false,
     "start_time": "2025-08-17T16:00:40.233051",
     "status": "completed"
    },
    "tags": []
   },
   "outputs": [],
   "source": [
    "# def custom class for using dataset and dataloader libraries\n",
    "class CustomDataset(Dataset):\n",
    "    \n",
    "    def __init__(self, features, labels): # load and convert/make necessary changes to the features in dataset\n",
    "        self.features= torch.tensor(features, dtype=torch.float32)\n",
    "        self.labels= torch.tensor(labels, dtype=torch.long)\n",
    "\n",
    "    def __len__(self): # return num rows\n",
    "        return len(self.features)\n",
    "\n",
    "    def __getitem__(self, index): # return data point at specific index\n",
    "        return self.features[index], self.labels[index]"
   ]
  },
  {
   "cell_type": "code",
   "execution_count": 12,
   "id": "30f62841",
   "metadata": {
    "execution": {
     "iopub.execute_input": "2025-08-17T16:00:40.253604Z",
     "iopub.status.busy": "2025-08-17T16:00:40.253239Z",
     "iopub.status.idle": "2025-08-17T16:00:40.391785Z",
     "shell.execute_reply": "2025-08-17T16:00:40.390988Z"
    },
    "papermill": {
     "duration": 0.145008,
     "end_time": "2025-08-17T16:00:40.393316",
     "exception": false,
     "start_time": "2025-08-17T16:00:40.248308",
     "status": "completed"
    },
    "tags": []
   },
   "outputs": [],
   "source": [
    "train_dataset = CustomDataset(x_train, y_train)"
   ]
  },
  {
   "cell_type": "code",
   "execution_count": 13,
   "id": "b72c121d",
   "metadata": {
    "execution": {
     "iopub.execute_input": "2025-08-17T16:00:40.406188Z",
     "iopub.status.busy": "2025-08-17T16:00:40.405948Z",
     "iopub.status.idle": "2025-08-17T16:00:40.506490Z",
     "shell.execute_reply": "2025-08-17T16:00:40.505797Z"
    },
    "papermill": {
     "duration": 0.108083,
     "end_time": "2025-08-17T16:00:40.507590",
     "exception": false,
     "start_time": "2025-08-17T16:00:40.399507",
     "status": "completed"
    },
    "tags": []
   },
   "outputs": [
    {
     "data": {
      "text/plain": [
       "(tensor([0.0000, 0.0000, 0.0000, 0.0000, 0.0000, 0.0000, 0.0000, 0.0000, 0.0000,\n",
       "         0.0000, 0.0000, 0.0000, 0.0000, 0.0000, 0.0000, 0.0000, 0.0000, 0.0000,\n",
       "         0.0000, 0.0000, 0.0000, 0.0000, 0.0000, 0.0000, 0.0000, 0.0000, 0.0000,\n",
       "         0.0000, 0.0000, 0.0000, 0.0000, 0.0000, 0.0000, 0.0000, 0.0000, 0.0000,\n",
       "         0.0000, 0.0000, 0.0000, 0.0000, 0.0000, 0.0000, 0.0000, 0.0000, 0.0000,\n",
       "         0.0000, 0.0000, 0.0000, 0.0000, 0.0000, 0.0000, 0.0000, 0.0000, 0.0000,\n",
       "         0.0000, 0.0000, 0.0000, 0.0000, 0.0000, 0.0000, 0.0000, 0.0000, 0.0000,\n",
       "         0.0000, 0.0000, 0.0000, 0.0000, 0.0000, 0.0000, 0.0000, 0.0000, 0.0000,\n",
       "         0.0000, 0.0000, 0.0000, 0.0000, 0.0000, 0.0000, 0.0000, 0.0000, 0.0000,\n",
       "         0.0000, 0.0000, 0.0000, 0.0000, 0.0000, 0.0000, 0.0000, 0.0157, 0.0000,\n",
       "         0.0000, 0.0000, 0.0000, 0.0000, 0.2431, 0.2392, 0.0824, 0.1137, 0.0902,\n",
       "         0.2000, 0.5333, 0.2392, 0.0000, 0.0000, 0.0000, 0.0000, 0.0000, 0.0000,\n",
       "         0.0000, 0.0000, 0.0000, 0.0000, 0.0000, 0.0000, 0.0000, 0.0000, 0.0000,\n",
       "         0.0000, 0.0000, 0.3451, 0.7882, 0.8941, 0.8824, 1.0000, 0.4510, 0.2431,\n",
       "         0.5373, 1.0000, 0.9216, 0.8706, 1.0000, 0.5294, 0.0000, 0.0000, 0.0000,\n",
       "         0.0000, 0.0000, 0.0000, 0.0000, 0.0000, 0.0000, 0.0000, 0.0000, 0.0000,\n",
       "         0.0000, 0.1843, 0.9882, 0.9176, 0.9333, 0.8784, 0.8431, 0.8431, 0.8980,\n",
       "         0.4235, 0.7059, 0.8118, 0.8392, 0.8784, 0.9059, 0.9765, 0.9961, 0.1765,\n",
       "         0.0000, 0.0000, 0.0000, 0.0000, 0.0000, 0.0000, 0.0000, 0.0000, 0.0039,\n",
       "         0.0000, 0.0000, 0.8392, 0.8706, 0.8235, 0.8353, 0.8784, 0.8824, 0.8510,\n",
       "         0.8627, 0.9961, 0.9137, 0.8588, 0.8667, 0.8510, 0.8745, 0.8667, 0.9412,\n",
       "         0.9961, 0.0000, 0.0000, 0.0039, 0.0000, 0.0000, 0.0000, 0.0039, 0.0000,\n",
       "         0.0000, 0.0000, 0.5020, 0.9294, 0.8118, 0.8784, 0.8784, 0.8118, 0.8471,\n",
       "         0.8392, 0.8235, 0.8157, 0.8275, 0.8667, 0.8157, 0.8588, 0.8353, 0.8863,\n",
       "         0.8275, 0.9294, 0.5882, 0.0000, 0.0000, 0.0000, 0.0000, 0.0000, 0.0000,\n",
       "         0.0078, 0.0000, 0.0000, 0.9294, 0.8706, 0.8431, 0.8118, 0.8235, 0.8314,\n",
       "         0.8353, 0.8078, 0.8392, 0.8353, 0.8392, 0.8353, 0.8235, 0.8431, 0.8392,\n",
       "         0.8078, 0.7804, 0.8549, 1.0000, 0.0510, 0.0000, 0.0078, 0.0000, 0.0000,\n",
       "         0.0000, 0.0157, 0.0000, 0.3333, 0.8941, 0.8235, 0.8549, 0.7843, 0.8275,\n",
       "         0.8157, 0.7961, 0.8431, 0.8235, 0.8196, 0.8196, 0.8235, 0.8353, 0.8275,\n",
       "         0.8235, 0.8510, 0.8078, 0.8353, 0.9059, 0.6863, 0.0000, 0.0000, 0.0000,\n",
       "         0.0000, 0.0000, 0.0000, 0.0000, 0.8510, 0.8784, 0.8431, 0.8078, 0.8039,\n",
       "         0.8000, 0.8510, 0.9020, 0.8706, 0.8431, 0.8784, 0.9137, 0.8941, 0.9098,\n",
       "         0.8941, 0.8784, 0.8118, 0.8314, 0.8431, 0.8353, 0.8980, 0.1216, 0.0000,\n",
       "         0.0157, 0.0000, 0.0039, 0.0000, 0.0824, 0.8824, 0.8314, 0.8314, 0.7961,\n",
       "         0.8275, 0.8824, 0.7569, 0.5451, 0.5333, 0.7647, 0.5765, 0.6118, 0.5451,\n",
       "         0.5020, 0.6353, 0.7725, 0.8745, 0.8118, 0.8627, 0.8353, 0.9098, 0.6941,\n",
       "         0.0000, 0.0000, 0.0000, 0.0000, 0.0000, 0.4824, 0.8863, 0.8118, 0.8275,\n",
       "         0.8196, 0.8039, 0.8941, 0.6196, 0.3529, 0.4039, 0.7294, 0.5412, 0.3922,\n",
       "         0.4745, 0.5765, 0.6196, 0.7176, 0.8863, 0.8157, 0.8392, 0.8196, 0.8471,\n",
       "         1.0000, 0.0510, 0.0000, 0.0039, 0.0000, 0.0000, 0.8863, 0.8588, 0.7922,\n",
       "         0.8157, 0.8078, 0.8039, 0.8471, 0.7216, 0.6118, 0.5882, 0.7569, 0.6667,\n",
       "         0.6431, 0.6588, 0.7373, 0.7294, 0.7843, 0.8588, 0.8471, 0.8353, 0.8353,\n",
       "         0.8275, 0.9137, 0.5804, 0.0000, 0.0000, 0.0000, 0.1765, 0.8902, 0.8000,\n",
       "         0.8392, 0.8275, 0.8549, 0.8706, 0.8667, 0.9020, 0.8980, 0.8667, 0.8353,\n",
       "         0.8784, 0.9137, 0.8863, 0.8627, 0.8588, 0.8667, 0.8784, 0.8745, 0.8510,\n",
       "         0.8235, 0.8549, 0.8353, 0.9961, 0.0000, 0.0000, 0.0000, 0.6157, 0.8863,\n",
       "         0.7961, 0.8118, 0.8275, 0.8196, 0.8431, 0.8039, 0.7765, 0.8118, 0.8157,\n",
       "         0.7882, 0.7882, 0.7725, 0.7961, 0.8039, 0.8235, 0.8118, 0.8353, 0.8392,\n",
       "         0.8392, 0.8392, 0.8353, 0.8157, 0.9176, 0.4196, 0.0000, 0.0000, 0.9216,\n",
       "         0.8353, 0.8000, 0.8275, 0.8235, 0.8196, 0.8353, 0.7922, 0.7725, 0.8000,\n",
       "         0.8431, 0.8510, 0.8353, 0.8314, 0.8235, 0.8078, 0.8314, 0.7961, 0.8275,\n",
       "         0.8549, 0.8431, 0.8392, 0.8157, 0.8196, 0.8706, 0.9020, 0.0000, 0.2039,\n",
       "         1.0000, 0.8118, 0.7843, 0.8157, 0.8353, 0.8235, 0.8235, 0.8157, 0.8118,\n",
       "         0.7922, 0.7882, 0.8196, 0.8471, 0.8471, 0.8471, 0.8471, 0.8392, 0.8314,\n",
       "         0.8039, 0.8431, 0.7882, 0.8941, 0.8157, 0.8392, 0.8314, 0.8549, 0.0980,\n",
       "         0.4627, 0.8510, 0.7882, 0.8078, 0.8157, 0.8353, 0.8157, 0.8039, 0.8078,\n",
       "         0.8235, 0.8275, 0.7922, 0.7804, 0.8118, 0.8157, 0.8196, 0.8235, 0.8118,\n",
       "         0.8235, 0.8235, 0.9608, 0.5451, 0.4667, 1.0000, 0.7922, 0.7961, 0.9255,\n",
       "         0.4471, 0.6706, 0.9333, 0.8314, 0.7961, 0.8627, 0.8471, 0.8510, 0.8196,\n",
       "         0.8118, 0.8039, 0.8235, 0.8275, 0.8078, 0.8000, 0.8078, 0.8196, 0.8275,\n",
       "         0.8431, 0.8235, 0.8078, 0.8667, 0.9490, 0.0000, 0.8784, 0.9176, 0.9020,\n",
       "         0.7098, 0.1020, 0.1529, 0.5686, 0.7882, 1.0000, 0.6157, 0.4510, 0.9804,\n",
       "         0.7843, 0.8118, 0.8078, 0.8118, 0.8353, 0.8471, 0.8078, 0.8039, 0.8078,\n",
       "         0.8118, 0.8078, 0.8431, 0.8118, 0.8667, 0.9333, 0.0000, 0.0000, 0.7373,\n",
       "         0.3333, 0.0000, 0.0000, 0.0000, 0.0000, 0.0000, 0.1216, 0.0000, 0.5059,\n",
       "         0.9922, 0.7451, 0.8118, 0.8157, 0.8157, 0.8157, 0.8196, 0.8275, 0.8275,\n",
       "         0.8196, 0.8196, 0.8196, 0.8314, 0.7882, 0.8863, 0.6471, 0.0000, 0.0000,\n",
       "         0.0000, 0.0000, 0.0000, 0.0000, 0.0078, 0.0000, 0.0000, 0.0000, 0.0000,\n",
       "         0.3490, 0.9961, 0.7804, 0.7804, 0.7529, 0.7686, 0.7765, 0.7804, 0.7882,\n",
       "         0.7922, 0.7961, 0.8000, 0.7961, 0.7961, 0.7843, 0.8706, 0.6078, 0.0000,\n",
       "         0.0118, 0.0118, 0.0118, 0.0078, 0.0000, 0.0000, 0.0000, 0.0039, 0.0196,\n",
       "         0.0000, 0.0000, 1.0000, 0.8549, 0.8863, 0.9098, 0.8941, 0.8784, 0.8706,\n",
       "         0.8627, 0.8588, 0.8588, 0.8510, 0.8667, 0.8627, 0.8314, 0.9255, 0.3725,\n",
       "         0.0000, 0.0078, 0.0000, 0.0000, 0.0000, 0.0000, 0.0000, 0.0000, 0.0000,\n",
       "         0.0000, 0.0000, 0.0000, 0.6078, 0.7608, 0.6588, 0.6667, 0.6706, 0.6784,\n",
       "         0.6784, 0.7020, 0.6941, 0.6863, 0.6745, 0.6706, 0.6549, 0.6314, 0.7059,\n",
       "         0.0000, 0.0000, 0.0039, 0.0000, 0.0039, 0.0000, 0.0000, 0.0000, 0.0000,\n",
       "         0.0000, 0.0000, 0.0000, 0.0000, 0.0000, 0.0000, 0.0000, 0.0000, 0.0000,\n",
       "         0.0000, 0.0000, 0.0000, 0.0000, 0.0000, 0.0000, 0.0000, 0.0000, 0.0000,\n",
       "         0.0000, 0.0000, 0.0000, 0.0000, 0.0000, 0.0000, 0.0000, 0.0000, 0.0000,\n",
       "         0.0000, 0.0000, 0.0000, 0.0000, 0.0000, 0.0000, 0.0000, 0.0000, 0.0000,\n",
       "         0.0000, 0.0000, 0.0000, 0.0000, 0.0000, 0.0000, 0.0000, 0.0000, 0.0000,\n",
       "         0.0000, 0.0000, 0.0000, 0.0000, 0.0000, 0.0000, 0.0000, 0.0000, 0.0000,\n",
       "         0.0000, 0.0000, 0.0000, 0.0000, 0.0000, 0.0000, 0.0000, 0.0000, 0.0000,\n",
       "         0.0000, 0.0000, 0.0000, 0.0000, 0.0000, 0.0000, 0.0000, 0.0000, 0.0000,\n",
       "         0.0000, 0.0000, 0.0000, 0.0000, 0.0000, 0.0000, 0.0000, 0.0000, 0.0000,\n",
       "         0.0000]),\n",
       " tensor(2))"
      ]
     },
     "execution_count": 13,
     "metadata": {},
     "output_type": "execute_result"
    }
   ],
   "source": [
    "train_dataset[0] # image normalized pixel values with label"
   ]
  },
  {
   "cell_type": "code",
   "execution_count": 14,
   "id": "85f59168",
   "metadata": {
    "execution": {
     "iopub.execute_input": "2025-08-17T16:00:40.518439Z",
     "iopub.status.busy": "2025-08-17T16:00:40.517895Z",
     "iopub.status.idle": "2025-08-17T16:00:40.522133Z",
     "shell.execute_reply": "2025-08-17T16:00:40.521470Z"
    },
    "papermill": {
     "duration": 0.010756,
     "end_time": "2025-08-17T16:00:40.523229",
     "exception": false,
     "start_time": "2025-08-17T16:00:40.512473",
     "status": "completed"
    },
    "tags": []
   },
   "outputs": [
    {
     "data": {
      "text/plain": [
       "60000"
      ]
     },
     "execution_count": 14,
     "metadata": {},
     "output_type": "execute_result"
    }
   ],
   "source": [
    "train_dataset.__len__()"
   ]
  },
  {
   "cell_type": "code",
   "execution_count": 15,
   "id": "1aeb4ec9",
   "metadata": {
    "execution": {
     "iopub.execute_input": "2025-08-17T16:00:40.533411Z",
     "iopub.status.busy": "2025-08-17T16:00:40.533213Z",
     "iopub.status.idle": "2025-08-17T16:00:40.550372Z",
     "shell.execute_reply": "2025-08-17T16:00:40.549697Z"
    },
    "papermill": {
     "duration": 0.023313,
     "end_time": "2025-08-17T16:00:40.551451",
     "exception": false,
     "start_time": "2025-08-17T16:00:40.528138",
     "status": "completed"
    },
    "tags": []
   },
   "outputs": [],
   "source": [
    "test_dataset = CustomDataset(x_test, y_test)"
   ]
  },
  {
   "cell_type": "code",
   "execution_count": 16,
   "id": "fa1f1e61",
   "metadata": {
    "execution": {
     "iopub.execute_input": "2025-08-17T16:00:40.561916Z",
     "iopub.status.busy": "2025-08-17T16:00:40.561681Z",
     "iopub.status.idle": "2025-08-17T16:00:40.565684Z",
     "shell.execute_reply": "2025-08-17T16:00:40.565027Z"
    },
    "papermill": {
     "duration": 0.010507,
     "end_time": "2025-08-17T16:00:40.566784",
     "exception": false,
     "start_time": "2025-08-17T16:00:40.556277",
     "status": "completed"
    },
    "tags": []
   },
   "outputs": [
    {
     "data": {
      "text/plain": [
       "10000"
      ]
     },
     "execution_count": 16,
     "metadata": {},
     "output_type": "execute_result"
    }
   ],
   "source": [
    "len(test_dataset)"
   ]
  },
  {
   "cell_type": "code",
   "execution_count": 17,
   "id": "83f9e234",
   "metadata": {
    "execution": {
     "iopub.execute_input": "2025-08-17T16:00:40.577385Z",
     "iopub.status.busy": "2025-08-17T16:00:40.576783Z",
     "iopub.status.idle": "2025-08-17T16:00:40.580548Z",
     "shell.execute_reply": "2025-08-17T16:00:40.579881Z"
    },
    "papermill": {
     "duration": 0.009968,
     "end_time": "2025-08-17T16:00:40.581556",
     "exception": false,
     "start_time": "2025-08-17T16:00:40.571588",
     "status": "completed"
    },
    "tags": []
   },
   "outputs": [],
   "source": [
    "train_loader = DataLoader(train_dataset, batch_size=32, shuffle=True, pin_memory=True)\n",
    "test_loader = DataLoader(test_dataset, batch_size=32, shuffle=False, pin_memory=False)"
   ]
  },
  {
   "cell_type": "code",
   "execution_count": 18,
   "id": "340d03c9",
   "metadata": {
    "execution": {
     "iopub.execute_input": "2025-08-17T16:00:40.591665Z",
     "iopub.status.busy": "2025-08-17T16:00:40.591465Z",
     "iopub.status.idle": "2025-08-17T16:00:40.595552Z",
     "shell.execute_reply": "2025-08-17T16:00:40.594890Z"
    },
    "papermill": {
     "duration": 0.010278,
     "end_time": "2025-08-17T16:00:40.596565",
     "exception": false,
     "start_time": "2025-08-17T16:00:40.586287",
     "status": "completed"
    },
    "tags": []
   },
   "outputs": [
    {
     "data": {
      "text/plain": [
       "<torch.utils.data.dataloader.DataLoader at 0x7b56e1889bd0>"
      ]
     },
     "execution_count": 18,
     "metadata": {},
     "output_type": "execute_result"
    }
   ],
   "source": [
    "train_loader"
   ]
  },
  {
   "cell_type": "code",
   "execution_count": 19,
   "id": "8b144a34",
   "metadata": {
    "execution": {
     "iopub.execute_input": "2025-08-17T16:00:40.607265Z",
     "iopub.status.busy": "2025-08-17T16:00:40.606590Z",
     "iopub.status.idle": "2025-08-17T16:00:40.610493Z",
     "shell.execute_reply": "2025-08-17T16:00:40.610004Z"
    },
    "papermill": {
     "duration": 0.010083,
     "end_time": "2025-08-17T16:00:40.611492",
     "exception": false,
     "start_time": "2025-08-17T16:00:40.601409",
     "status": "completed"
    },
    "tags": []
   },
   "outputs": [
    {
     "data": {
      "text/plain": [
       "1875"
      ]
     },
     "execution_count": 19,
     "metadata": {},
     "output_type": "execute_result"
    }
   ],
   "source": [
    "len(train_loader) # num batches; 32 * 1875 = 60,000"
   ]
  },
  {
   "cell_type": "code",
   "execution_count": 20,
   "id": "64c83b50",
   "metadata": {
    "execution": {
     "iopub.execute_input": "2025-08-17T16:00:40.622146Z",
     "iopub.status.busy": "2025-08-17T16:00:40.621970Z",
     "iopub.status.idle": "2025-08-17T16:00:40.625817Z",
     "shell.execute_reply": "2025-08-17T16:00:40.625304Z"
    },
    "papermill": {
     "duration": 0.010531,
     "end_time": "2025-08-17T16:00:40.626914",
     "exception": false,
     "start_time": "2025-08-17T16:00:40.616383",
     "status": "completed"
    },
    "tags": []
   },
   "outputs": [],
   "source": [
    "# my neural network\n",
    "\n",
    "class MyNN(nn.Module):\n",
    "\n",
    "    def __init__(self, num_features):\n",
    "        super().__init__()\n",
    "        self.model = nn.Sequential(\n",
    "            nn.Linear(num_features, 128), # input neurons: num of features (784), output neurons: 128\n",
    "            nn.ReLU(),\n",
    "            nn.Linear(128, 64),\n",
    "            nn.ReLU(),\n",
    "            nn.Linear(64, 10) # 10 labels\n",
    "        )\n",
    "\n",
    "    def forward(self, x):\n",
    "        return self.model(x)"
   ]
  },
  {
   "cell_type": "code",
   "execution_count": 21,
   "id": "a3f1b431",
   "metadata": {
    "execution": {
     "iopub.execute_input": "2025-08-17T16:00:40.637569Z",
     "iopub.status.busy": "2025-08-17T16:00:40.637061Z",
     "iopub.status.idle": "2025-08-17T16:00:40.640215Z",
     "shell.execute_reply": "2025-08-17T16:00:40.639514Z"
    },
    "papermill": {
     "duration": 0.009531,
     "end_time": "2025-08-17T16:00:40.641282",
     "exception": false,
     "start_time": "2025-08-17T16:00:40.631751",
     "status": "completed"
    },
    "tags": []
   },
   "outputs": [],
   "source": [
    "# params\n",
    "lr= 0.1\n",
    "epochs= 100"
   ]
  },
  {
   "cell_type": "code",
   "execution_count": 22,
   "id": "725e1f09",
   "metadata": {
    "execution": {
     "iopub.execute_input": "2025-08-17T16:00:40.651716Z",
     "iopub.status.busy": "2025-08-17T16:00:40.651545Z",
     "iopub.status.idle": "2025-08-17T16:00:46.357458Z",
     "shell.execute_reply": "2025-08-17T16:00:46.356761Z"
    },
    "papermill": {
     "duration": 5.71277,
     "end_time": "2025-08-17T16:00:46.358997",
     "exception": false,
     "start_time": "2025-08-17T16:00:40.646227",
     "status": "completed"
    },
    "tags": []
   },
   "outputs": [],
   "source": [
    "# instantiate model\n",
    "model= MyNN(x_train.shape[1])\n",
    "model= model.to(device) # put model on gpu\n",
    "\n",
    "# loss func\n",
    "loss_type = nn.CrossEntropyLoss()\n",
    "\n",
    "#optimiser\n",
    "optimizer= optim.SGD(model.parameters(), lr=lr)"
   ]
  },
  {
   "cell_type": "code",
   "execution_count": 23,
   "id": "4f0a4453",
   "metadata": {
    "execution": {
     "iopub.execute_input": "2025-08-17T16:00:46.372314Z",
     "iopub.status.busy": "2025-08-17T16:00:46.371918Z",
     "iopub.status.idle": "2025-08-17T16:06:54.286850Z",
     "shell.execute_reply": "2025-08-17T16:06:54.286057Z"
    },
    "papermill": {
     "duration": 367.922986,
     "end_time": "2025-08-17T16:06:54.288193",
     "exception": false,
     "start_time": "2025-08-17T16:00:46.365207",
     "status": "completed"
    },
    "tags": []
   },
   "outputs": [
    {
     "name": "stdout",
     "output_type": "stream",
     "text": [
      "Epoch: 1, Loss: 0.6010189413030942\n",
      "Epoch: 2, Loss: 0.4135076250910759\n",
      "Epoch: 3, Loss: 0.37121313376426696\n",
      "Epoch: 4, Loss: 0.3437591538945834\n",
      "Epoch: 5, Loss: 0.32385402583877243\n",
      "Epoch: 6, Loss: 0.3091171885728836\n",
      "Epoch: 7, Loss: 0.2962389718155066\n",
      "Epoch: 8, Loss: 0.28478200549980004\n",
      "Epoch: 9, Loss: 0.27343885239958765\n",
      "Epoch: 10, Loss: 0.26577090840637685\n",
      "Epoch: 11, Loss: 0.25830729249715806\n",
      "Epoch: 12, Loss: 0.25099953015943366\n",
      "Epoch: 13, Loss: 0.24375854245920975\n",
      "Epoch: 14, Loss: 0.23399951468805472\n",
      "Epoch: 15, Loss: 0.23218018555541833\n",
      "Epoch: 16, Loss: 0.22519357588986555\n",
      "Epoch: 17, Loss: 0.22086197706957658\n",
      "Epoch: 18, Loss: 0.21513471797307332\n",
      "Epoch: 19, Loss: 0.21071677063380678\n",
      "Epoch: 20, Loss: 0.205938256465892\n",
      "Epoch: 21, Loss: 0.20132937553326288\n",
      "Epoch: 22, Loss: 0.19747952504952748\n",
      "Epoch: 23, Loss: 0.1947750591923793\n",
      "Epoch: 24, Loss: 0.18993149445156257\n",
      "Epoch: 25, Loss: 0.18798903200775385\n",
      "Epoch: 26, Loss: 0.18390918584913016\n",
      "Epoch: 27, Loss: 0.18106138862520457\n",
      "Epoch: 28, Loss: 0.1760458280613025\n",
      "Epoch: 29, Loss: 0.1749511590992411\n",
      "Epoch: 30, Loss: 0.1689701165219148\n",
      "Epoch: 31, Loss: 0.16482944913630684\n",
      "Epoch: 32, Loss: 0.16333886149550478\n",
      "Epoch: 33, Loss: 0.1624283431564768\n",
      "Epoch: 34, Loss: 0.15685039045239488\n",
      "Epoch: 35, Loss: 0.15579025804748137\n",
      "Epoch: 36, Loss: 0.15239955878481268\n",
      "Epoch: 37, Loss: 0.15039336294084787\n",
      "Epoch: 38, Loss: 0.14773817488898833\n",
      "Epoch: 39, Loss: 0.14861683931847414\n",
      "Epoch: 40, Loss: 0.14278569460635385\n",
      "Epoch: 41, Loss: 0.14188879149158795\n",
      "Epoch: 42, Loss: 0.14174377301298083\n",
      "Epoch: 43, Loss: 0.13408370708463094\n",
      "Epoch: 44, Loss: 0.13863201332949102\n",
      "Epoch: 45, Loss: 0.13236847251529496\n",
      "Epoch: 46, Loss: 0.12906160372955103\n",
      "Epoch: 47, Loss: 0.12761352046082416\n",
      "Epoch: 48, Loss: 0.13111306347275772\n",
      "Epoch: 49, Loss: 0.12571261554211377\n",
      "Epoch: 50, Loss: 0.12444608716303483\n",
      "Epoch: 51, Loss: 0.11951235049044093\n",
      "Epoch: 52, Loss: 0.11916920890410741\n",
      "Epoch: 53, Loss: 0.1170472822016726\n",
      "Epoch: 54, Loss: 0.11341345025065044\n",
      "Epoch: 55, Loss: 0.1118496326557671\n",
      "Epoch: 56, Loss: 0.11339010337664125\n",
      "Epoch: 57, Loss: 0.11497551562003791\n",
      "Epoch: 58, Loss: 0.11277659904217968\n",
      "Epoch: 59, Loss: 0.10815077808710435\n",
      "Epoch: 60, Loss: 0.11051416678614914\n",
      "Epoch: 61, Loss: 0.1021643955361098\n",
      "Epoch: 62, Loss: 0.10399153001084924\n",
      "Epoch: 63, Loss: 0.1022813082071642\n",
      "Epoch: 64, Loss: 0.10291526264970502\n",
      "Epoch: 65, Loss: 0.10080621090214699\n",
      "Epoch: 66, Loss: 0.10037231563385576\n",
      "Epoch: 67, Loss: 0.09635889710268626\n",
      "Epoch: 68, Loss: 0.0985768301608041\n",
      "Epoch: 69, Loss: 0.09393294543974723\n",
      "Epoch: 70, Loss: 0.09386969530371328\n",
      "Epoch: 71, Loss: 0.09450158204063384\n",
      "Epoch: 72, Loss: 0.09055261662142972\n",
      "Epoch: 73, Loss: 0.08879361194387698\n",
      "Epoch: 74, Loss: 0.08884002780119578\n",
      "Epoch: 75, Loss: 0.08781841736199955\n",
      "Epoch: 76, Loss: 0.08434530287608505\n",
      "Epoch: 77, Loss: 0.08505863120633488\n",
      "Epoch: 78, Loss: 0.08686418244397888\n",
      "Epoch: 79, Loss: 0.08371009890548885\n",
      "Epoch: 80, Loss: 0.08050655597471632\n",
      "Epoch: 81, Loss: 0.0872019128985703\n",
      "Epoch: 82, Loss: 0.08456631258691971\n",
      "Epoch: 83, Loss: 0.07936503895924737\n",
      "Epoch: 84, Loss: 0.08420787493443738\n",
      "Epoch: 85, Loss: 0.08564040887587084\n",
      "Epoch: 86, Loss: 0.07391169883070203\n",
      "Epoch: 87, Loss: 0.07466141225135264\n",
      "Epoch: 88, Loss: 0.07971768068219535\n",
      "Epoch: 89, Loss: 0.07343523616800085\n",
      "Epoch: 90, Loss: 0.07168213517251812\n",
      "Epoch: 91, Loss: 0.07058509843776313\n",
      "Epoch: 92, Loss: 0.07073832172768502\n",
      "Epoch: 93, Loss: 0.07122130909718884\n",
      "Epoch: 94, Loss: 0.07226863335903423\n",
      "Epoch: 95, Loss: 0.07267709503135023\n",
      "Epoch: 96, Loss: 0.07312608143417165\n",
      "Epoch: 97, Loss: 0.07333480814580495\n",
      "Epoch: 98, Loss: 0.07106199028699194\n",
      "Epoch: 99, Loss: 0.06732662915427937\n",
      "Epoch: 100, Loss: 0.07206758889021973\n"
     ]
    }
   ],
   "source": [
    "# training loop\n",
    "\n",
    "for epoch in range(epochs):\n",
    "    \n",
    "    total_epoch_loss= 0\n",
    "    \n",
    "    for batch_features, batch_labels in train_loader:\n",
    "\n",
    "        #move data to gpu\n",
    "        batch_features, batch_labels = batch_features.to(device), batch_labels.to(device)\n",
    "\n",
    "        #forward pass\n",
    "        outputs = model.forward(batch_features)\n",
    "\n",
    "        # loss calculation\n",
    "        loss= loss_type(outputs, batch_labels)\n",
    "\n",
    "        # backprop\n",
    "        optimizer.zero_grad()\n",
    "        loss.backward()\n",
    "\n",
    "        # update grads\n",
    "        optimizer.step()\n",
    "\n",
    "        # total loss\n",
    "        total_epoch_loss += loss.item()   \n",
    "\n",
    "    avg_loss = total_epoch_loss / len(train_loader)\n",
    "    print(f\"Epoch: {epoch+1}, Loss: {avg_loss}\")"
   ]
  },
  {
   "cell_type": "code",
   "execution_count": 24,
   "id": "acbe5e94",
   "metadata": {
    "execution": {
     "iopub.execute_input": "2025-08-17T16:06:54.307949Z",
     "iopub.status.busy": "2025-08-17T16:06:54.307307Z",
     "iopub.status.idle": "2025-08-17T16:06:54.312063Z",
     "shell.execute_reply": "2025-08-17T16:06:54.311464Z"
    },
    "papermill": {
     "duration": 0.015778,
     "end_time": "2025-08-17T16:06:54.313195",
     "exception": false,
     "start_time": "2025-08-17T16:06:54.297417",
     "status": "completed"
    },
    "tags": []
   },
   "outputs": [
    {
     "data": {
      "text/plain": [
       "MyNN(\n",
       "  (model): Sequential(\n",
       "    (0): Linear(in_features=784, out_features=128, bias=True)\n",
       "    (1): ReLU()\n",
       "    (2): Linear(in_features=128, out_features=64, bias=True)\n",
       "    (3): ReLU()\n",
       "    (4): Linear(in_features=64, out_features=10, bias=True)\n",
       "  )\n",
       ")"
      ]
     },
     "execution_count": 24,
     "metadata": {},
     "output_type": "execute_result"
    }
   ],
   "source": [
    "# set model to eval mode (for cases like dropout, batch normalization)\n",
    "model.eval()"
   ]
  },
  {
   "cell_type": "code",
   "execution_count": 25,
   "id": "50f41f4a",
   "metadata": {
    "execution": {
     "iopub.execute_input": "2025-08-17T16:06:54.379377Z",
     "iopub.status.busy": "2025-08-17T16:06:54.379148Z",
     "iopub.status.idle": "2025-08-17T16:06:54.732973Z",
     "shell.execute_reply": "2025-08-17T16:06:54.732184Z"
    },
    "papermill": {
     "duration": 0.411993,
     "end_time": "2025-08-17T16:06:54.734154",
     "exception": false,
     "start_time": "2025-08-17T16:06:54.322161",
     "status": "completed"
    },
    "tags": []
   },
   "outputs": [
    {
     "name": "stdout",
     "output_type": "stream",
     "text": [
      "0.8811\n"
     ]
    }
   ],
   "source": [
    "# eval code\n",
    "\n",
    "total= 0\n",
    "correct= 0\n",
    "with torch.no_grad():\n",
    "    for batch_features, batch_labels in test_loader:\n",
    "\n",
    "        # move to gpu\n",
    "        batch_features, batch_labels = batch_features.to(device), batch_labels.to(device)\n",
    "\n",
    "        outputs= model(batch_features)\n",
    "        _, predicted = torch.max(outputs, 1)\n",
    "        total += batch_labels.shape[0]\n",
    "        correct += (predicted == batch_labels).sum().item()\n",
    "\n",
    "print(correct / total)"
   ]
  },
  {
   "cell_type": "code",
   "execution_count": null,
   "id": "27406358",
   "metadata": {
    "papermill": {
     "duration": 0.008738,
     "end_time": "2025-08-17T16:06:54.752025",
     "exception": false,
     "start_time": "2025-08-17T16:06:54.743287",
     "status": "completed"
    },
    "tags": []
   },
   "outputs": [],
   "source": []
  }
 ],
 "metadata": {
  "kaggle": {
   "accelerator": "nvidiaTeslaT4",
   "dataSources": [
    {
     "datasetId": 2243,
     "sourceId": 9243,
     "sourceType": "datasetVersion"
    }
   ],
   "dockerImageVersionId": 31090,
   "isGpuEnabled": true,
   "isInternetEnabled": true,
   "language": "python",
   "sourceType": "notebook"
  },
  "kernelspec": {
   "display_name": "Python 3",
   "language": "python",
   "name": "python3"
  },
  "language_info": {
   "codemirror_mode": {
    "name": "ipython",
    "version": 3
   },
   "file_extension": ".py",
   "mimetype": "text/x-python",
   "name": "python",
   "nbconvert_exporter": "python",
   "pygments_lexer": "ipython3",
   "version": "3.11.13"
  },
  "papermill": {
   "default_parameters": {},
   "duration": 399.10606,
   "end_time": "2025-08-17T16:06:57.009667",
   "environment_variables": {},
   "exception": null,
   "input_path": "__notebook__.ipynb",
   "output_path": "__notebook__.ipynb",
   "parameters": {},
   "start_time": "2025-08-17T16:00:17.903607",
   "version": "2.6.0"
  }
 },
 "nbformat": 4,
 "nbformat_minor": 5
}
